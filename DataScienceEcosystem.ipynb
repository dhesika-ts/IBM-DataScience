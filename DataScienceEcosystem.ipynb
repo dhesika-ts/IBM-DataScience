{
 "cells": [
  {
   "cell_type": "markdown",
   "metadata": {},
   "source": [
    "##### Exercise 1: Create a Jupyter Notebook3\n",
    "\n",
    "## Create a new Jupyter notebook called DataScienceEcosystem.ipynb\n"
   ]
  },
  {
   "cell_type": "markdown",
   "metadata": {},
   "source": [
    "##### Exercise 2: Create markdown cell with title of the notebook\n"
   ]
  },
  {
   "cell_type": "markdown",
   "metadata": {},
   "source": [
    "# Data Science Tools and Ecosystem"
   ]
  },
  {
   "cell_type": "markdown",
   "metadata": {},
   "source": [
    "#### Exercise 3 - Create a markdown cell for an introduction\n",
    "In this notebook, Data Science Tools and Ecosystem are summarized."
   ]
  },
  {
   "cell_type": "markdown",
   "metadata": {},
   "source": [
    "#### Exercise 4 - Create a markdown cell to list data science languages\n",
    "\n",
    "Some of the popular languages that Data Scientists use are:\n",
    "1. Python\n",
    "2. R\n",
    "3. SQL\n",
    "4. JAVA"
   ]
  },
  {
   "cell_type": "markdown",
   "metadata": {},
   "source": [
    "#### Exercise 5 - Create a markdown cell to list data science libraries\n",
    "\n",
    "Some of the commonly used libraries used by Data Scientists include:\n",
    "\n",
    "1. TensorFlow\n",
    "2. NumPy \n",
    "3. SciPy\n",
    "4. Pandas"
   ]
  },
  {
   "cell_type": "markdown",
   "metadata": {},
   "source": [
    "#### Exercise 6 - Create a markdown cell with a table of Data Science tools\n",
    "\n",
    "| Data Science Tools |\n",
    "| ------------------ |\n",
    "| SAS It is one of those data science tools which are specifically designed for statistical operation |\n",
    "| Apache Spark |\n",
    "| BigML |"
   ]
  },
  {
   "cell_type": "markdown",
   "metadata": {},
   "source": [
    "#### Exercise 7 - Create a markdown cell introducing arithmetic expression examples"
   ]
  },
  {
   "cell_type": "markdown",
   "metadata": {},
   "source": [
    "### Below are a few examples of evaluating arithmetic expressions in Python"
   ]
  },
  {
   "cell_type": "markdown",
   "metadata": {},
   "source": [
    "1. **Addition:** Adding two numbers in Python.\n"
   ]
  },
  {
   "cell_type": "code",
   "execution_count": 1,
   "metadata": {
    "tags": []
   },
   "outputs": [
    {
     "name": "stdout",
     "output_type": "stream",
     "text": [
      "6\n"
     ]
    }
   ],
   "source": [
    "result = 10 - 4\n",
    "print(result)  # Output: 6"
   ]
  },
  {
   "cell_type": "markdown",
   "metadata": {},
   "source": [
    " 2. **Subtraction:** Subtracting one number from another."
   ]
  },
  {
   "cell_type": "code",
   "execution_count": 2,
   "metadata": {
    "tags": []
   },
   "outputs": [
    {
     "name": "stdout",
     "output_type": "stream",
     "text": [
      "6\n"
     ]
    }
   ],
   "source": [
    "result = 10 - 4\n",
    "print(result)  # Output: 6\n"
   ]
  },
  {
   "cell_type": "markdown",
   "metadata": {},
   "source": [
    "**Multiplication:** Multiplying two numbers"
   ]
  },
  {
   "cell_type": "code",
   "execution_count": 3,
   "metadata": {
    "tags": []
   },
   "outputs": [
    {
     "name": "stdout",
     "output_type": "stream",
     "text": [
      "42\n"
     ]
    }
   ],
   "source": [
    "result = 6 * 7\n",
    "print(result)  # Output: 42\n"
   ]
  },
  {
   "cell_type": "markdown",
   "metadata": {},
   "source": [
    "##### Exercise 8 - Create a code cell to multiply and add numbers"
   ]
  },
  {
   "cell_type": "code",
   "execution_count": 1,
   "metadata": {
    "tags": []
   },
   "outputs": [
    {
     "data": {
      "text/plain": [
       "17"
      ]
     },
     "execution_count": 1,
     "metadata": {},
     "output_type": "execute_result"
    }
   ],
   "source": [
    "#This a simple arithmetic expression to mutiply then add integers\n",
    "(3*4)+5 #output:17"
   ]
  },
  {
   "cell_type": "markdown",
   "metadata": {},
   "source": [
    "##### Exercise 9 - Create a code cell to convert minutes to hours"
   ]
  },
  {
   "cell_type": "code",
   "execution_count": 2,
   "metadata": {
    "tags": []
   },
   "outputs": [
    {
     "name": "stdout",
     "output_type": "stream",
     "text": [
      "3.3333333333333335\n"
     ]
    }
   ],
   "source": [
    "# This will convert 200 minutes to hours by diving by 60\n",
    "minutes = 200\n",
    "hours = minutes / 60\n",
    "print(hours)  # Output: 3.3333333333333335"
   ]
  },
  {
   "cell_type": "markdown",
   "metadata": {},
   "source": [
    "#### Exercise 10 - Insert a markdown cell to list Objectives"
   ]
  },
  {
   "cell_type": "markdown",
   "metadata": {},
   "source": [
    "\n",
    "### Objectives:\n",
    "\n",
    "- **List popular languages for Data Science**: Explore and understand the programming languages commonly used in the field of data science.\n",
    "\n",
    "- **Introduction to Jupyter Notebooks**: Learn how to create, edit, and execute code in Jupyter Notebook environments.\n",
    "\n",
    "- **Basic Python Syntax**: Familiarize yourself with fundamental Python syntax, including variables, data types, and basic operations.\n",
    "\n",
    "- **Data Manipulation with Pandas**: Discover how to work with data frames and perform data manipulation tasks using the Pandas library.\n",
    "\n",
    "- **Data Visualization with Matplotlib**: Explore data visualization techniques using Matplotlib to create various types of plots and charts.\n",
    "\n",
    "- **Introduction to Machine Learning**: Gain insights into the concepts of machine learning and its application in data science.\n",
    "\n",
    "- **Hands-on Examples**: Engage in practical exercises and code examples to reinforce the concepts discussed.\n",
    "\n",
    "- **Best Practices in Data Science**: Learn about best practices, tips, and resources for effective data science work.\n",
    "\n",
    "- **Preparing for Data Science Projects**: Understand the steps involved in preparing and structuring data for data science projects.\n",
    "\n",
    "- **Collaboration and Version Control**: Explore tools and techniques for collaborating on data science projects and using version control.\n",
    "\n",
    "These objectives cover some of the key takeaways from this notebook and provide a solid foundation for your journey in the field of data science.\n"
   ]
  },
  {
   "cell_type": "markdown",
   "metadata": {},
   "source": [
    "#### Exercise 11 - Create a markdown cell to indicate the Author's name\n",
    "## Author\n",
    "\n",
    "Dhesika\n"
   ]
  },
  {
   "cell_type": "markdown",
   "metadata": {},
   "source": [
    "#### Exercise 12 - Share your notebook through GitHub"
   ]
  },
  {
   "cell_type": "code",
   "execution_count": null,
   "metadata": {},
   "outputs": [],
   "source": []
  }
 ],
 "metadata": {
  "kernelspec": {
   "display_name": "Python",
   "language": "python",
   "name": "conda-env-python-py"
  },
  "language_info": {
   "codemirror_mode": {
    "name": "ipython",
    "version": 3
   },
   "file_extension": ".py",
   "mimetype": "text/x-python",
   "name": "python",
   "nbconvert_exporter": "python",
   "pygments_lexer": "ipython3",
   "version": "3.7.12"
  }
 },
 "nbformat": 4,
 "nbformat_minor": 4
}
